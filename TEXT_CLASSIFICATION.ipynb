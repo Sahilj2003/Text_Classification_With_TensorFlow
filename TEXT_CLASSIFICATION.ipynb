{
  "nbformat": 4,
  "nbformat_minor": 0,
  "metadata": {
    "colab": {
      "provenance": [],
      "gpuType": "V28"
    },
    "kernelspec": {
      "name": "python3",
      "display_name": "Python 3"
    },
    "language_info": {
      "name": "python"
    },
    "accelerator": "TPU"
  },
  "cells": [
    {
      "cell_type": "markdown",
      "source": [
        "**TEXT CLASSIFICATION WITH TENSORFLOW**\n",
        "  we take a piece of text (sentence,paragraph,review,tweet,etc) and put into different categories ex - positive or negative\n",
        "  \n",
        "  Tensorflow-it's a machine learning library by google to train model and helps in recogonize model\n",
        "  (HERE -->automatically categorize text into predefined groups)"
      ],
      "metadata": {
        "id": "mbxt1O3klD9F"
      }
    },
    {
      "cell_type": "code",
      "execution_count": null,
      "metadata": {
        "id": "1RMbUm81k7Il"
      },
      "outputs": [],
      "source": [
        "import tensorflow as tf\n",
        "from tensorflow.keras.datasets import imdb\n",
        "\n",
        "#load the datset (train and test )\n",
        "(train_data,train_label),(test_data,test_label)=imdb.load_data(num_words=10000)\n",
        "print(f\"training data shape:{train_data.shape}\")\n",
        "print(f\"test data shape:{test_data.shape}\")\n",
        "\n"
      ]
    },
    {
      "cell_type": "code",
      "source": [
        "#num_words =10000 means we limit the vocabulary to the top 10k most frequency words in the dataset"
      ],
      "metadata": {
        "id": "DM81ujdDnkc7"
      },
      "execution_count": null,
      "outputs": []
    },
    {
      "cell_type": "markdown",
      "source": [
        "**PREPROCESSING THE DATA **\n",
        "there are variuos way sone of the way is padding to make every dat ais of same length ,we will also convert these sequences into vector so that model can understand it  "
      ],
      "metadata": {
        "id": "_AwEFN3Toj3h"
      }
    },
    {
      "cell_type": "code",
      "source": [
        "from tensorflow.keras.preprocessing.sequence import pad_sequences\n",
        "maxlen=500# we ;imit the length of each review up to 500 words\n",
        "train_data=pad_sequences(train_data,maxlen=maxlen)\n",
        "test_data=pad_sequences(test_data,maxlen=maxlen)\n",
        "\n",
        "print(f\"trianing data shape after padding : {train_data.shape}\")\n"
      ],
      "metadata": {
        "id": "IM9JZsPnoirA"
      },
      "execution_count": null,
      "outputs": []
    },
    {
      "cell_type": "markdown",
      "source": [
        "Padding: This step ensures all reviews are the same length (500 words). Reviews shorter than 500 words are padded with zeros."
      ],
      "metadata": {
        "id": "rqFaSz13tLxr"
      }
    },
    {
      "cell_type": "markdown",
      "source": [
        "**BUILD the MODEL**\n",
        "it s an interesting part  building the neural network no no just kidding but get an idea by like builiding a neural network\n",
        "\n",
        "\n",
        "*   **Embedding Layers**: turn word into vectors of fixed size ,forming words into number that a machine can understand\n",
        "*   **LSTM Layer**: Long short Term Memory ,its great for sequence data ,ecause it keeps track of important information in sequences\n",
        "\n",
        "\n",
        "*   **Dense Layer**:its the output layer that will classify the reviews as +ve or -ve\n",
        "\n",
        "\n",
        "\n"
      ],
      "metadata": {
        "id": "ruIW9mxxtbrq"
      }
    },
    {
      "cell_type": "code",
      "source": [
        "model=tf.keras.Sequential([\n",
        "    tf.keras.layers.Embedding(10000,32,input_length=maxlen),# word embedding\n",
        "    tf.keras.layers.LSTM(32),#LSTM layer\n",
        "    tf.keras.layers.Dense(1,activation='sigmoid')# output layer binary clssification\n",
        "])\n",
        "\n",
        "#compile the model\n",
        "model.compile(optimizer='adam',loss='binary_crossentropy',metrics=['accuracy'])\n",
        "\n",
        "#sumary() of model\n",
        "model.summary()"
      ],
      "metadata": {
        "id": "69MgoNDrtHF3"
      },
      "execution_count": null,
      "outputs": []
    },
    {
      "cell_type": "markdown",
      "source": [
        "Embedding(10000, 32): We have 10,000 words in the vocabulary, and each word will be represented as a 32-dimensional vector.\n",
        "\n",
        "LSTM(32): The LSTM layer has 32 units. This is where the model learns patterns in the sequences of words.\n",
        "\n",
        "Dense(1, activation='sigmoid'): The output layer has 1 unit (since we’re doing binary classification), and sigmoid is the activation function because we are classifying text as either positive or negative."
      ],
      "metadata": {
        "id": "2fVh2HZNw-Jp"
      }
    },
    {
      "cell_type": "markdown",
      "source": [
        "**Train The MOdel**\n"
      ],
      "metadata": {
        "id": "xLC_lLLLxF8_"
      }
    },
    {
      "cell_type": "code",
      "source": [
        "# Train the model\n",
        "history = model.fit(train_data, train_label, epochs=10, batch_size=60, validation_data=(test_data, test_label))\n"
      ],
      "metadata": {
        "id": "v5tmO3XGwnyw"
      },
      "execution_count": null,
      "outputs": []
    },
    {
      "cell_type": "markdown",
      "source": [
        "Explanation:\n",
        "\n",
        "We’re training for 5 or 10 epochs, which means the model will look at the data 5 o 10 times.\n",
        "\n",
        "Batch size: We set the batch size to 64, meaning the model will look at 64 reviews at a time before adjusting its weights.\n",
        "\n"
      ],
      "metadata": {
        "id": "Loo0cD3xxcj7"
      }
    },
    {
      "cell_type": "markdown",
      "source": [
        "**EVALUATE The Model**\n"
      ],
      "metadata": {
        "id": "NC_FQy4NxiL2"
      }
    },
    {
      "cell_type": "code",
      "source": [
        "test_loss,test_acc=model.evaluate(test_data,test_label)\n",
        "print(f\"Test accuracy: {test_acc}\")"
      ],
      "metadata": {
        "id": "hI_LxpvUxe1K"
      },
      "execution_count": null,
      "outputs": []
    },
    {
      "cell_type": "markdown",
      "source": [
        "**Interference(Prediction)**\n"
      ],
      "metadata": {
        "id": "NwqlVQOk2Fab"
      }
    },
    {
      "cell_type": "code",
      "source": [
        "# Making a prediction\n",
        "sample_review = [\"This movie was amazing!\"]\n",
        "sample_review_seq = imdb.get_word_index()  # Get word-index mapping for IMDB dataset\n",
        "sample_review = [sample_review_seq.get(word, 0) for word in sample_review[0].lower().split()]\n",
        "sample_review = pad_sequences([sample_review], maxlen=maxlen)\n",
        "\n",
        "# Predict the sentiment\n",
        "prediction = model.predict(sample_review)\n",
        "print(f\"Prediction: {'Positive' if prediction > 0.5 else 'Negative'}\")\n"
      ],
      "metadata": {
        "id": "upq7IvANx-u3"
      },
      "execution_count": null,
      "outputs": []
    },
    {
      "cell_type": "markdown",
      "source": [
        "**Wrappimg up Visualizing Axxuracy **"
      ],
      "metadata": {
        "id": "Qilr_v6f5GYt"
      }
    },
    {
      "cell_type": "code",
      "source": [
        "import matplotlib.pyplot as plt\n",
        "\n",
        "# Plot training and validation accuracy\n",
        "plt.plot(history.history['accuracy'], label='accuracy')\n",
        "plt.plot(history.history['val_accuracy'], label = 'val_accuracy')\n",
        "plt.xlabel('Epoch')\n",
        "plt.ylabel('Accuracy')\n",
        "plt.ylim([0, 1])\n",
        "plt.legend(loc='lower right')\n",
        "plt.show()\n"
      ],
      "metadata": {
        "id": "ZURQuE-I4t5c"
      },
      "execution_count": null,
      "outputs": []
    },
    {
      "cell_type": "code",
      "source": [],
      "metadata": {
        "id": "7T3D8_fy5ai-"
      },
      "execution_count": null,
      "outputs": []
    }
  ]
}